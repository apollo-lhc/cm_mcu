{
  "cells" : [
    {
      "cell_type" : "code",
      "execution_count" : 1,
      "metadata" : {},
      "outputs" : [],
      "source" : [
        "import yaml\n",
        "from pprint import pprint\n",
        "import dicttoxml\n",
        "# there is also dict2xml available in pypy (python3)\n"
      ]
    },
    {
      "cell_type" : "code",
      "execution_count" : 3,
      "metadata" : {},
      "outputs" : [
        {
          "name" : "stdout",
          "output_type" : "stream",
          "text" : [
            "{'cm_hw_rev': '1A',\n",
            " 'config': [{'count': 25,\n",
            "             'mcu_call': 'firefly_temps',\n",
            "             'name': 'firefly',\n",
            "             'names': ['K01  12 Tx GTH',\n",
            "                       'K01  12 Rx GTH',\n",
            "                       'K02  12 Tx GTH',\n",
            "                       'K02  12 Rx GTH',\n",
            "                       'K03  12 Tx GTH',\n",
            "                       'K03  12 Rx GTH',\n",
            "                       'K04 4 XCVR GTY',\n",
            "                       'K05 4 XCVR GTY',\n",
            "                       'K06 4 XCVR GTY',\n",
            "                       'K07  12 Tx GTY',\n",
            "                       'K07  12 Rx GTY',\n",
            "                       'V01 4 XCVR GTY',\n",
            "                       'V02 4 XCVR GTY',\n",
            "                       'V03 4 XCVR GTY',\n",
            "                       'V04 4 XCVR GTY',\n",
            "                       'V05 4 XCVR GTY',\n",
            "                       'V06 4 XCVR GTY',\n",
            "                       'V07 4 XCVR GTY',\n",
            "                       'V08 4 XCVR GTY',\n",
            "                       'V09 4 XCVR GTY',\n",
            "                       'V10 4 XCVR GTY',\n",
            "                       'V11  12 Tx GTY',\n",
            "                       'V11  12 Rx GTY',\n",
            "                       'V12  12 Tx GTY',\n",
            "                       'V12  12 Rx GTY'],\n",
            "             'start': 0,\n",
            "             'type': 'int8'},\n",
            "            {'count': 8,\n",
            "             'mcu_call': 'psmon',\n",
            "             'name': 'psmon',\n",
            "             'names': ['TEMP1',\n",
            "                       'TEMP3',\n",
            "                       'VIN',\n",
            "                       'VOUT',\n",
            "                       'IOUT',\n",
            "                       'RESERVED',\n",
            "                       'RESERVED',\n",
            "                       'RESERVED'],\n",
            "             'prefix': None,\n",
            "             'start': 32,\n",
            "             'type': 'fp16'},\n",
            "            {'count': 21,\n",
            "             'mcu_call': 'adcmon',\n",
            "             'name': 'adcmon',\n",
            "             'names': ['VCC_12V',\n",
            "                       'VCC_2V5',\n",
            "                       'VCC_M3V3',\n",
            "                       'VCC_3V3',\n",
            "                       'VCC_1V8',\n",
            "                       'VCC_M1V8',\n",
            "                       'V_VCCINT',\n",
            "                       'K_VCCINT',\n",
            "                       'V_MGTY1_AVTT',\n",
            "                       'V_MGTY2_AVTT',\n",
            "                       'K_MGTH_AVTT',\n",
            "                       'K_MGTY_AVTT',\n",
            "                       'V_MGTY1_VCCAUX',\n",
            "                       'V_MGTY2_VCCAUX',\n",
            "                       'K_MGTY_VCCAUX',\n",
            "                       'K_MGTH_VCCAUX',\n",
            "                       'V_MGTY1_AVCC',\n",
            "                       'V_MGTY2_AVCC',\n",
            "                       'K_MGTY_AVCC',\n",
            "                       'K_MGTH_AVCC',\n",
            "                       'TM4C_TEMP'],\n",
            "             'start': 40,\n",
            "             'type': 'fp16'},\n",
            "            {'count': 2,\n",
            "             'mcu_call': 'uptime',\n",
            "             'name': 'uptime',\n",
            "             'names': ['Uptime'],\n",
            "             'start': 192,\n",
            "             'type': 'uint32_t'},\n",
            "            {'count': 20,\n",
            "             'mcu_call': 'gitversion',\n",
            "             'name': 'gitversion',\n",
            "             'names': ['Git_Version'],\n",
            "             'start': 194,\n",
            "             'type': 'char'},\n",
            "            {'count': 2,\n",
            "             'mcu_call': 'fpga',\n",
            "             'name': 'fpga',\n",
            "             'names': ['F1_TEMP', 'F2_TEMP'],\n",
            "             'start': 128,\n",
            "             'type': 'float16'}],\n",
            " 'name': 'zynqmon configuration file',\n",
            " 'psmon_single_instance': ['TEMP1',\n",
            "                           'TEMP3',\n",
            "                           'VIN',\n",
            "                           'VOUT',\n",
            "                           'IOUT',\n",
            "                           'RESERVED',\n",
            "                           'RESERVED',\n",
            "                           'RESERVED'],\n",
            " 'revision': 1,\n",
            " 'sm_fw_rev': '1A',\n",
            " 'sm_hw_rev': '1A'}\n"
          ]
        }
      ],
      "source" : [
        "with open('../data/zynqmon.yml') as f:\n",
        "    data = yaml.load(f, Loader=yaml.FullLoader)\n",
        "    pprint(data)\n"
      ]
    },
    {
      "cell_type" : "code",
      "execution_count" : 3,
      "metadata" : {},
      "outputs" : [
        {
          "name" : "stdout",
          "output_type" : "stream",
          "text" : [
            "b'<?xml version=\"1.0\" encoding=\"UTF-8\" ?><root><name>zynqmon configuration file</name><cm_hw_rev>1A</cm_hw_rev><sm_hw_rev>1A</sm_hw_rev><sm_fw_rev>1A</sm_fw_rev><revision>1</revision><config><item><name>firefly</name><start>0</start><count>25</count><mcu_call>firefly</mcu_call><type>int8</type><names><item>K01  12 Tx GTH</item><item>K01  12 Rx GTH</item><item>K02  12 Tx GTH</item><item>K02  12 Rx GTH</item><item>K03  12 Tx GTH</item><item>K03  12 Rx GTH</item><item>K04 4 XCVR GTY</item><item>K05 4 XCVR GTY</item><item>K06 4 XCVR GTY</item><item>K07  12 Tx GTY</item><item>K07  12 Rx GTY</item><item>V01 4 XCVR GTY</item><item>V02 4 XCVR GTY</item><item>V03 4 XCVR GTY</item><item>V04 4 XCVR GTY</item><item>V05 4 XCVR GTY</item><item>V06 4 XCVR GTY</item><item>V07 4 XCVR GTY</item><item>V08 4 XCVR GTY</item><item>V09 4 XCVR GTY</item><item>V10 4 XCVR GTY</item><item>V11  12 Tx GTY</item><item>V11  12 Rx GTY</item><item>V12  12 Tx GTY</item><item>V12  12 Rx GTY</item></names></item><item><name>psmon</name><start>20</start><count>20</count><mcu_call>psmon</mcu_call><type>fp16</type><single_instance><item>TEMP1</item><item>TEMP3</item><item>VIN</item><item>VOUT</item><item>IOUT</item><item>RESERVED</item><item>RESERVED</item><item>RESERVED</item></single_instance><names><item ><item>TEMP1</item><item>TEMP3</item><item>VIN</item><item>VOUT</item><item>IOUT</item><item>RESERVED</item><item>RESERVED</item><item>RESERVED</item></item><item ><item>TEMP1</item><item>TEMP3</item><item>VIN</item><item>VOUT</item><item>IOUT</item><item>RESERVED</item><item>RESERVED</item><item>RESERVED</item></item><item ><item>TEMP1</item><item>TEMP3</item><item>VIN</item><item>VOUT</item><item>IOUT</item><item>RESERVED</item><item>RESERVED</item><item>RESERVED</item></item><item ><item>TEMP1</item><item>TEMP3</item><item>VIN</item><item>VOUT</item><item>IOUT</item><item>RESERVED</item><item>RESERVED</item><item>RESERVED</item></item><item ><item>TEMP1</item><item>TEMP3</item><item>VIN</item><item>VOUT</item><item>IOUT</item><item>RESERVED</item><item>RESERVED</item><item>RESERVED</item></item><item ><item>TEMP1</item><item>TEMP3</item><item>VIN</item><item>VOUT</item><item>IOUT</item><item>RESERVED</item><item>RESERVED</item><item>RESERVED</item></item><item ><item>TEMP1</item><item>TEMP3</item><item>VIN</item><item>VOUT</item><item>IOUT</item><item>RESERVED</item><item>RESERVED</item><item>RESERVED</item></item><item ><item>TEMP1</item><item>TEMP3</item><item>VIN</item><item>VOUT</item><item>IOUT</item><item>RESERVED</item><item>RESERVED</item><item>RESERVED</item></item></names></item><item><name>adcmon</name><start>40</start><count>21</count><mcu_call>adcmon</mcu_call><type>fp16</type><names><item>VCC_12V</item><item>VCC_2V5</item><item>VCC_M3V3</item><item>VCC_3V3</item><item>VCC_1V8</item><item>VCC_M1V8</item><item>V_VCCINT</item><item>K_VCCINT</item><item>V_MGTY1_AVTT</item><item>V_MGTY2_AVTT</item><item>K_MGTH_AVTT</item><item>K_MGTY_AVTT</item><item>V_MGTY1_VCCAUX</item><item>V_MGTY2_VCCAUX</item><item>K_MGTY_VCCAUX</item><item>K_MGTH_VCCAUX</item><item>V_MGTY1_AVCC</item><item>V_MGTY2_AVCC</item><item>K_MGTY_AVCC</item><item>K_MGTH_AVCC</item><item>TM4C_TEMP</item></names></item><item><name>uptime</name><start>192</start><count>2</count><type>uint16</type><mcu_call>uptime</mcu_call><names><item>Uptime</item></names></item><item><name>gitversion</name><start>194</start><count>20</count><type>char</type><mcu_call>gitversion</mcu_call><names><item>Git_Version</item></names></item></config></root>'\n",
            "b'<?xml version=\"1.0\" encoding=\"UTF-8\" ?><root><item><name>firefly</name><start>0</start><count>25</count><mcu_call>firefly</mcu_call><type>int8</type><names><item>K01  12 Tx GTH</item><item>K01  12 Rx GTH</item><item>K02  12 Tx GTH</item><item>K02  12 Rx GTH</item><item>K03  12 Tx GTH</item><item>K03  12 Rx GTH</item><item>K04 4 XCVR GTY</item><item>K05 4 XCVR GTY</item><item>K06 4 XCVR GTY</item><item>K07  12 Tx GTY</item><item>K07  12 Rx GTY</item><item>V01 4 XCVR GTY</item><item>V02 4 XCVR GTY</item><item>V03 4 XCVR GTY</item><item>V04 4 XCVR GTY</item><item>V05 4 XCVR GTY</item><item>V06 4 XCVR GTY</item><item>V07 4 XCVR GTY</item><item>V08 4 XCVR GTY</item><item>V09 4 XCVR GTY</item><item>V10 4 XCVR GTY</item><item>V11  12 Tx GTY</item><item>V11  12 Rx GTY</item><item>V12  12 Tx GTY</item><item>V12  12 Rx GTY</item></names></item><item><name>psmon</name><start>20</start><count>20</count><mcu_call>psmon</mcu_call><type>fp16</type><single_instance><item>TEMP1</item><item>TEMP3</item><item>VIN</item><item>VOUT</item><item>IOUT</item><item>RESERVED</item><item>RESERVED</item><item>RESERVED</item></single_instance><names><item ><item>TEMP1</item><item>TEMP3</item><item>VIN</item><item>VOUT</item><item>IOUT</item><item>RESERVED</item><item>RESERVED</item><item>RESERVED</item></item><item ><item>TEMP1</item><item>TEMP3</item><item>VIN</item><item>VOUT</item><item>IOUT</item><item>RESERVED</item><item>RESERVED</item><item>RESERVED</item></item><item ><item>TEMP1</item><item>TEMP3</item><item>VIN</item><item>VOUT</item><item>IOUT</item><item>RESERVED</item><item>RESERVED</item><item>RESERVED</item></item><item ><item>TEMP1</item><item>TEMP3</item><item>VIN</item><item>VOUT</item><item>IOUT</item><item>RESERVED</item><item>RESERVED</item><item>RESERVED</item></item><item ><item>TEMP1</item><item>TEMP3</item><item>VIN</item><item>VOUT</item><item>IOUT</item><item>RESERVED</item><item>RESERVED</item><item>RESERVED</item></item><item ><item>TEMP1</item><item>TEMP3</item><item>VIN</item><item>VOUT</item><item>IOUT</item><item>RESERVED</item><item>RESERVED</item><item>RESERVED</item></item><item ><item>TEMP1</item><item>TEMP3</item><item>VIN</item><item>VOUT</item><item>IOUT</item><item>RESERVED</item><item>RESERVED</item><item>RESERVED</item></item><item ><item>TEMP1</item><item>TEMP3</item><item>VIN</item><item>VOUT</item><item>IOUT</item><item>RESERVED</item><item>RESERVED</item><item>RESERVED</item></item></names></item><item><name>adcmon</name><start>40</start><count>21</count><mcu_call>adcmon</mcu_call><type>fp16</type><names><item>VCC_12V</item><item>VCC_2V5</item><item>VCC_M3V3</item><item>VCC_3V3</item><item>VCC_1V8</item><item>VCC_M1V8</item><item>V_VCCINT</item><item>K_VCCINT</item><item>V_MGTY1_AVTT</item><item>V_MGTY2_AVTT</item><item>K_MGTH_AVTT</item><item>K_MGTY_AVTT</item><item>V_MGTY1_VCCAUX</item><item>V_MGTY2_VCCAUX</item><item>K_MGTY_VCCAUX</item><item>K_MGTH_VCCAUX</item><item>V_MGTY1_AVCC</item><item>V_MGTY2_AVCC</item><item>K_MGTY_AVCC</item><item>K_MGTH_AVCC</item><item>TM4C_TEMP</item></names></item><item><name>uptime</name><start>192</start><count>2</count><type>uint16</type><mcu_call>uptime</mcu_call><names><item>Uptime</item></names></item><item><name>gitversion</name><start>194</start><count>20</count><type>char</type><mcu_call>gitversion</mcu_call><names><item>Git_Version</item></names></item></root>'\n"
          ]
        }
      ],
      "source" : [
        "\n",
        "xml = dicttoxml.dicttoxml(data, attr_type=False)\n",
        "print(xml)\n",
        "\n",
        "# dump xml to file\n",
        "with open('/tmp/zynqmon.xml', 'wb') as f:\n",
        "    f.write(xml)\n",
        "\n",
        "plmem = dicttoxml.dicttoxml(data['config'], attr_type=False)\n",
        "print(plmem)"
      ]
    },
    {
      "cell_type" : "code",
      "execution_count" : null,
      "metadata" : {},
      "outputs" : [],
      "source" : []
    }
  ],
            "metadata" : {
              "interpreter" : {
                "hash" : "d1bcf2015140efba1309a3b878c8a09b28a5da1fac13dcbb304588e5a25844fe"
              },
              "kernelspec" : {
                "display_name" : "Python 3.8.12 64-bit ('base': conda)",
                "language" : "python",
                "name" : "python3"
              },
              "language_info" : {
                "codemirror_mode" : {
                  "name" : "ipython",
                  "version" : 3
                },
                "file_extension" : ".py",
                "mimetype" : "text/x-python",
                "name" : "python",
                "nbconvert_exporter" : "python",
                "pygments_lexer" : "ipython3",
                "version" : "3.8.12"
              },
              "orig_nbformat" : 4
            },
                         "nbformat" : 4,
                         "nbformat_minor" : 2
}
