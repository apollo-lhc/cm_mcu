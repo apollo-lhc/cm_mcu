{
  "cells" : [
    {
      "cell_type" : "code",
      "execution_count" : 11,
      "metadata" : {},
      "outputs" : [],
      "source" : [
        "import yaml\n",
        "from pprint import pprint\n",
        "import dicttoxml\n",
        "# there is also dict2xml available in pypy (python3)\n",
        "#\n",
        "# THIS IS OBSOLETE -- DO NOT USE -- ONLY FOR HISTORICAL INTEREST"
      ]
    },
    {
      "cell_type" : "code",
      "execution_count" : 12,
      "metadata" : {},
      "outputs" : [],
      "source" : [
        "with open('../data/zynqmon_2.yml') as f:\n",
        "    data = yaml.load(f, Loader=yaml.FullLoader)\n"
      ]
    },
    {
      "cell_type" : "code",
      "execution_count" : 13,
      "metadata" : {},
      "outputs" : [
        {
          "name" : "stdout",
          "output_type" : "stream",
          "text" : [
            "firefly\n",
            "psmon\n",
            "adcmon\n",
            "uptime\n",
            "gitversion\n",
            "fpga\n"
          ]
        }
      ],
      "source" : [
        "config = data['config']\n",
        "for c in config:\n",
        "    print(c['name'])"
      ]
    },
    {
      "cell_type" : "code",
      "execution_count" : 14,
      "metadata" : {},
      "outputs" : [],
      "source" : [
        "# size = 0\n",
        "# for c in config:\n",
        "#     # generate C call\n",
        "#     expected_length = len(c['names'])\n",
        "#     if 'postfixes' in c:\n",
        "#         expected_length *= len(c['postfixes'])\n",
        "#     if '32' in c['type']:\n",
        "#         expected_length *= 2\n",
        "#     if 'size' in c:\n",
        "#         expected_length *= c['size']*4 # size in 4 byte words -- extra factor of 4\n",
        "#     #if ( c['count'] != expected_length ) :\n",
        "#     #    print(f\"// mismatch:  {expected_length}, size {c['count']}\")\n",
        "#     print(f\"// {c['name']}, size {expected_length}\")\n",
        "#     print(f\"zm_set_{c['mcu_call']}(&zynqmon_data[{size}], {c['start']});\")\n",
        "#     size += expected_length\n",
        "# print(f\"#define ZMON_VALID_ENTRIES {size}\")"
      ]
    },
    {
      "cell_type" : "code",
      "execution_count" : 15,
      "metadata" : {},
      "outputs" : [
        {
          "name" : "stdout",
          "output_type" : "stream",
          "text" : [
            "// firefly, size 20\n",
            "zm_set_firefly_temps(&zynqmon_data[0], 0);\n",
            "// psmon, size 70\n",
            "zm_set_psmon(&zynqmon_data[20], 32);\n",
            "// adcmon, size 21\n",
            "zm_set_adcmon(&zynqmon_data[90], 128);\n",
            "// uptime, size 2\n",
            "zm_set_uptime(&zynqmon_data[111], 192);\n",
            "// gitversion, size 10.0\n",
            "zm_set_gitversion(&zynqmon_data[113], 118);\n",
            "// fpga, size 8\n",
            "zm_set_fpga(&zynqmon_data[123], 150);\n",
            "#define ZMON_VALID_ENTRIES 131\n"
          ]
        }
      ],
      "source" : [
        "size = 0\n",
        "for c in config:\n",
        "    # generate C call\n",
        "    expected_length = len(c['names'])\n",
        "    if 'postfixes' in c:\n",
        "        expected_length *= len(c['postfixes'])\n",
        "    if '32' in c['type']:\n",
        "        expected_length *= 2\n",
        "    elif 'char' in c['type']:\n",
        "        expected_length = expected_length/2.\n",
        "    if 'size' in c:\n",
        "        expected_length *= c['size']*4 # size in 4 byte words -- extra factor of 4\n",
        "    #if ( c['count'] != expected_length ) :\n",
        "    #    print(f\"// mismatch:  {expected_length}, size {c['count']}\")\n",
        "    print(f\"// {c['name']}, size {expected_length}\")\n",
        "    print(f\"zm_set_{c['mcu_call']}(&zynqmon_data[{size}], {c['start']});\")\n",
        "    size += int(expected_length)\n",
        "print(f\"#define ZMON_VALID_ENTRIES {size}\")"
      ]
    },
    {
      "cell_type" : "code",
      "execution_count" : null,
      "metadata" : {},
      "outputs" : [],
      "source" : []
    }
  ],
            "metadata" : {
              "interpreter" : {
                "hash" : "d1bcf2015140efba1309a3b878c8a09b28a5da1fac13dcbb304588e5a25844fe"
              },
              "kernelspec" : {
                "display_name" : "Python 3.8.12 64-bit ('base': conda)",
                "language" : "python",
                "name" : "python3"
              },
              "language_info" : {
                "codemirror_mode" : {
                  "name" : "ipython",
                  "version" : 3
                },
                "file_extension" : ".py",
                "mimetype" : "text/x-python",
                "name" : "python",
                "nbconvert_exporter" : "python",
                "pygments_lexer" : "ipython3",
                "version" : "3.9.17"
              },
              "orig_nbformat" : 4
            },
                         "nbformat" : 4,
                         "nbformat_minor" : 2
}
