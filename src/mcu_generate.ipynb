{
 "cells": [
  {
   "cell_type": "code",
   "execution_count": 8,
   "metadata": {},
   "outputs": [],
   "source": [
    "import yaml\n",
    "from pprint import pprint\n",
    "import dicttoxml\n",
    "# there is also dict2xml available in pypy (python3)\n"
   ]
  },
  {
   "cell_type": "code",
   "execution_count": 9,
   "metadata": {},
   "outputs": [],
   "source": [
    "with open('../data/zynqmon.yml') as f:\n",
    "    data = yaml.load(f, Loader=yaml.FullLoader)\n"
   ]
  },
  {
   "cell_type": "code",
   "execution_count": 10,
   "metadata": {},
   "outputs": [
    {
     "name": "stdout",
     "output_type": "stream",
     "text": [
      "firefly\n",
      "psmon\n",
      "adcmon\n",
      "uptime\n",
      "gitversion\n",
      "fpga\n"
     ]
    }
   ],
   "source": [
    "config = data['config']\n",
    "for c in config:\n",
    "    print(c['name'])"
   ]
  },
  {
   "cell_type": "code",
   "execution_count": 11,
   "metadata": {},
   "outputs": [
    {
     "name": "stdout",
     "output_type": "stream",
     "text": [
      "// firefly, size 25\n",
      "zm_set_firefly_temps(&zynqmon_data[0], 0);\n",
      "// psmon, size 64\n",
      "zm_set_psmon(&zynqmon_data[25], 20);\n",
      "// adcmon, size 21\n",
      "zm_set_adcmon(&zynqmon_data[89], 40);\n",
      "// uptime, size 2\n",
      "zm_set_uptime(&zynqmon_data[110], 192);\n",
      "// gitversion, size 20\n",
      "zm_set_gitversion(&zynqmon_data[112], 194);\n",
      "// fpga, size 2\n",
      "zm_set_fpga(&zynqmon_data[132], 128);\n"
     ]
    }
   ],
   "source": [
    "size = 0\n",
    "for c in config:\n",
    "    # generate C call\n",
    "    print(f\"// {c['name']}, size {c['count']}\")\n",
    "    print(f\"zm_set_{c['mcu_call']}(&zynqmon_data[{size}], {c['start']});\")\n",
    "    size = size + int(c['count'])"
   ]
  },
  {
   "cell_type": "code",
   "execution_count": null,
   "metadata": {},
   "outputs": [],
   "source": []
  }
 ],
 "metadata": {
  "interpreter": {
   "hash": "d1bcf2015140efba1309a3b878c8a09b28a5da1fac13dcbb304588e5a25844fe"
  },
  "kernelspec": {
   "display_name": "Python 3.8.12 64-bit ('base': conda)",
   "language": "python",
   "name": "python3"
  },
  "language_info": {
   "codemirror_mode": {
    "name": "ipython",
    "version": 3
   },
   "file_extension": ".py",
   "mimetype": "text/x-python",
   "name": "python",
   "nbconvert_exporter": "python",
   "pygments_lexer": "ipython3",
   "version": "3.8.12"
  },
  "orig_nbformat": 4
 },
 "nbformat": 4,
 "nbformat_minor": 2
}
