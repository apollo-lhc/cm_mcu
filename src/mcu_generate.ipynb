{
 "cells": [
  {
   "cell_type": "code",
   "execution_count": 9,
   "metadata": {},
   "outputs": [],
   "source": [
    "import yaml\n",
    "from pprint import pprint\n",
    "import dicttoxml\n",
    "# there is also dict2xml available in pypy (python3)\n"
   ]
  },
  {
   "cell_type": "code",
   "execution_count": 10,
   "metadata": {},
   "outputs": [],
   "source": [
    "with open('../data/zynqmon_2.yml') as f:\n",
    "    data = yaml.load(f, Loader=yaml.FullLoader)\n"
   ]
  },
  {
   "cell_type": "code",
   "execution_count": 11,
   "metadata": {},
   "outputs": [
    {
     "name": "stdout",
     "output_type": "stream",
     "text": [
      "firefly\n",
      "psmon\n",
      "adcmon\n",
      "uptime\n",
      "gitversion\n",
      "fpga\n"
     ]
    }
   ],
   "source": [
    "config = data['config']\n",
    "for c in config:\n",
    "    print(c['name'])"
   ]
  },
  {
   "cell_type": "code",
   "execution_count": 17,
   "metadata": {},
   "outputs": [
    {
     "name": "stdout",
     "output_type": "stream",
     "text": [
      "// firefly, size 20\n",
      "zm_set_firefly_temps(&zynqmon_data[0], 0);\n",
      "// psmon, size 80\n",
      "zm_set_psmon(&zynqmon_data[20], 32);\n",
      "// adcmon, size 21\n",
      "zm_set_adcmon(&zynqmon_data[100], 128);\n",
      "// uptime, size 2\n",
      "zm_set_uptime(&zynqmon_data[121], 192);\n",
      "// gitversion, size 20\n",
      "zm_set_gitversion(&zynqmon_data[123], 118);\n",
      "// fpga, size 8\n",
      "zm_set_fpga(&zynqmon_data[143], 150);\n",
      "Final size: 151\n"
     ]
    }
   ],
   "source": [
    "size = 0\n",
    "for c in config:\n",
    "    # generate C call\n",
    "    expected_length = len(c['names'])\n",
    "    if 'prefixes' in c:\n",
    "        expected_length *= len(c['prefixes'])\n",
    "    if '32' in c['type']:\n",
    "        expected_length *= 2\n",
    "    if 'size' in c:\n",
    "        expected_length *= c['size']*4 # size in 4 byte words -- extra factor of 4\n",
    "    #if ( c['count'] != expected_length ) :\n",
    "    #    print(f\"// mismatch:  {expected_length}, size {c['count']}\")\n",
    "    print(f\"// {c['name']}, size {expected_length}\")\n",
    "    print(f\"zm_set_{c['mcu_call']}(&zynqmon_data[{size}], {c['start']});\")\n",
    "    size += expected_length\n",
    "print(f\"Final size: {size}\")"
   ]
  },
  {
   "cell_type": "code",
   "execution_count": null,
   "metadata": {},
   "outputs": [],
   "source": []
  }
 ],
 "metadata": {
  "interpreter": {
   "hash": "d1bcf2015140efba1309a3b878c8a09b28a5da1fac13dcbb304588e5a25844fe"
  },
  "kernelspec": {
   "display_name": "Python 3.8.12 64-bit ('base': conda)",
   "language": "python",
   "name": "python3"
  },
  "language_info": {
   "codemirror_mode": {
    "name": "ipython",
    "version": 3
   },
   "file_extension": ".py",
   "mimetype": "text/x-python",
   "name": "python",
   "nbconvert_exporter": "python",
   "pygments_lexer": "ipython3",
   "version": "3.8.12"
  },
  "orig_nbformat": 4
 },
 "nbformat": 4,
 "nbformat_minor": 2
}
